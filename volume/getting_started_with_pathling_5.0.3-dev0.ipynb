{
 "cells": [
  {
   "cell_type": "markdown",
   "metadata": {},
   "source": [
    "AkHQ: http://localhost:8082  \n",
    "Spark-Master http://localhost:8083  \n",
    "Spark-Worker-1 http://localhost:8084\n",
    "\n",
    "https://github.com/aehrc/pathling/tree/issue/452/lib/python#python-api-for-pathling"
   ]
  },
  {
   "cell_type": "markdown",
   "metadata": {},
   "source": [
    "# Try Connect To Test FHIR Kafka"
   ]
  },
  {
   "cell_type": "code",
   "execution_count": 1,
   "metadata": {},
   "outputs": [
    {
     "name": "stdout",
     "output_type": "stream",
     "text": [
      "Python 3.10.4\n",
      "Found existing installation: pathling 5.0.3.dev0\n",
      "Uninstalling pathling-5.0.3.dev0:\n",
      "  Would remove:\n",
      "    /opt/conda/lib/python3.10/site-packages/pathling-5.0.3.dev0.dist-info/*\n",
      "    /opt/conda/lib/python3.10/site-packages/pathling/*\n",
      "    /opt/conda/share/pathling/examples/data/bundles/Bennett146_Swaniawski813_704c9750-f6e6-473b-ee83-fbd48e07fe3f.json\n",
      "    /opt/conda/share/pathling/examples/data/bundles/Dino214_Parisian75_40d82b80-b682-cd8b-da6d-396809878641.json\n",
      "    /opt/conda/share/pathling/examples/data/resources/Condition.ndjson\n",
      "    /opt/conda/share/pathling/examples/data/resources/Patient.ndjson\n",
      "    /opt/conda/share/pathling/examples/load_bundle.py\n",
      "    /opt/conda/share/pathling/examples/load_resources.py\n",
      "Proceed (Y/n)?   Successfully uninstalled pathling-5.0.3.dev0\n",
      "yes: standard output: Broken pipe\n",
      "Collecting pathling==5.0.3.dev0\n",
      "  Using cached pathling-5.0.3.dev0-py2.py3-none-any.whl (19.6 MB)\n",
      "Installing collected packages: pathling\n",
      "Successfully installed pathling-5.0.3.dev0\n",
      "yes: standard output: Broken pipe\n"
     ]
    }
   ],
   "source": [
    "!python --version\n",
    "!yes | pip uninstall pathling\n",
    "!yes | pip install pathling==5.0.3.dev0"
   ]
  },
  {
   "cell_type": "code",
   "execution_count": 2,
   "metadata": {},
   "outputs": [
    {
     "data": {
      "text/plain": [
       "environ{'SHELL': '/bin/bash',\n",
       "        'HOSTNAME': 'a852bf03eb5c',\n",
       "        'LANGUAGE': 'en_US.UTF-8',\n",
       "        'SPARK_OPTS': '--driver-java-options=-Xms1024M --driver-java-options=-Xmx4096M --driver-java-options=-Dlog4j.logLevel=info',\n",
       "        'NB_UID': '1000',\n",
       "        'PWD': '/home/jovyan',\n",
       "        'PYSPARK_SUBMIT_ARGS': '     --packages org.apache.spark:spark-sql-kafka-0-10_2.12:3.2.1,au.csiro.pathling:encoders:5.0.3-SNAPSHOT     --repositories https://oss.sonatype.org/content/repositories/snapshots     pyspark-shell',\n",
       "        'HOME': '/home/jovyan',\n",
       "        'LANG': 'en_US.UTF-8',\n",
       "        'NB_GID': '100',\n",
       "        'XDG_CACHE_HOME': '/home/jovyan/.cache/',\n",
       "        'APACHE_SPARK_VERSION': '3.2.1',\n",
       "        'PYTHONPATH': '/usr/local/spark/python/lib/py4j-0.10.9.3-src.zip:/usr/local/spark/python:',\n",
       "        'HADOOP_VERSION': '3.2',\n",
       "        'SHLVL': '0',\n",
       "        'CONDA_DIR': '/opt/conda',\n",
       "        'SPARK_HOME': '/usr/local/spark',\n",
       "        'SPARK_CONF_DIR': '/usr/local/spark/conf',\n",
       "        'NB_USER': 'jovyan',\n",
       "        'LC_ALL': 'en_US.UTF-8',\n",
       "        'PATH': '/opt/conda/bin:/usr/local/sbin:/usr/local/bin:/usr/sbin:/usr/bin:/sbin:/bin:/usr/local/spark/bin',\n",
       "        'PYSPARK_PYTHONPATH_SET': '1',\n",
       "        'DEBIAN_FRONTEND': 'noninteractive',\n",
       "        'PYDEVD_USE_FRAME_EVAL': 'NO',\n",
       "        'JPY_PARENT_PID': '7',\n",
       "        'TERM': 'xterm-color',\n",
       "        'CLICOLOR': '1',\n",
       "        'PAGER': 'cat',\n",
       "        'GIT_PAGER': 'cat',\n",
       "        'MPLBACKEND': 'module://matplotlib_inline.backend_inline'}"
      ]
     },
     "execution_count": 2,
     "metadata": {},
     "output_type": "execute_result"
    }
   ],
   "source": [
    "import os\n",
    "os.environ"
   ]
  },
  {
   "cell_type": "code",
   "execution_count": 3,
   "metadata": {},
   "outputs": [],
   "source": [
    "# for debugging\n",
    "#os.environ[\"PYSPARK_SUBMIT_ARGS\"] = \"--packages org.apache.spark:spark-sql-kafka-0-10_2.12:3.2.1 pyspark-shell\""
   ]
  },
  {
   "cell_type": "code",
   "execution_count": 4,
   "metadata": {},
   "outputs": [],
   "source": [
    "appName = \"Kafka, Spark and FHIR Data\"\n",
    "master = \"spark://spark-master:7077\"\n",
    "#master = \"local[*]\"\n",
    "kafka_topic = \"fhir.post-gateway-kdb\""
   ]
  },
  {
   "cell_type": "code",
   "execution_count": 5,
   "metadata": {},
   "outputs": [],
   "source": [
    "from pyspark.sql import SparkSession\n",
    "    \n",
    "spark = SparkSession.builder \\\n",
    "        .appName(appName) \\\n",
    "        .master(master) \\\n",
    "        .config('spark.ui.port','0') \\\n",
    "        .getOrCreate()"
   ]
  },
  {
   "cell_type": "code",
   "execution_count": 6,
   "metadata": {},
   "outputs": [],
   "source": [
    "# https://spark.apache.org/docs/latest/structured-streaming-kafka-integration.html\n",
    "# default for startingOffsets is \"latest\", but \"earliest\" allows rewind for missed alerts    \n",
    "df = spark \\\n",
    "  .readStream  \\\n",
    "  .format(\"kafka\") \\\n",
    "  .option(\"kafka.bootstrap.servers\", \"kafka1:19092\") \\\n",
    "  .option(\"subscribe\", kafka_topic) \\\n",
    "  .option(\"startingOffsets\", \"earliest\") \\\n",
    "  .load()"
   ]
  },
  {
   "cell_type": "code",
   "execution_count": 7,
   "metadata": {},
   "outputs": [
    {
     "name": "stdout",
     "output_type": "stream",
     "text": [
      "root\n",
      " |-- key: binary (nullable = true)\n",
      " |-- value: binary (nullable = true)\n",
      " |-- topic: string (nullable = true)\n",
      " |-- partition: integer (nullable = true)\n",
      " |-- offset: long (nullable = true)\n",
      " |-- timestamp: timestamp (nullable = true)\n",
      " |-- timestampType: integer (nullable = true)\n",
      "\n"
     ]
    }
   ],
   "source": [
    "df.printSchema()"
   ]
  },
  {
   "cell_type": "code",
   "execution_count": 8,
   "metadata": {},
   "outputs": [
    {
     "data": {
      "text/plain": [
       "False"
      ]
     },
     "execution_count": 8,
     "metadata": {},
     "output_type": "execute_result"
    }
   ],
   "source": [
    "query = df.selectExpr(\"CAST(key AS STRING)\", \"CAST(value AS STRING)\") \\\n",
    "          .writeStream \\\n",
    "          .queryName(\"gettable\") \\\n",
    "          .format(\"memory\") \\\n",
    "          .start()\n",
    "\n",
    "# close connection after 30 seconds\n",
    "query.awaitTermination(30)"
   ]
  },
  {
   "cell_type": "code",
   "execution_count": 9,
   "metadata": {},
   "outputs": [
    {
     "name": "stdout",
     "output_type": "stream",
     "text": [
      "+-------------------+--------------------+\n",
      "|                key|               value|\n",
      "+-------------------+--------------------+\n",
      "|    Patient/patient|{\"resourceType\": ...|\n",
      "|Condition/condition|{\"resourceType\": ...|\n",
      "|Condition/condition|{\"resourceType\": ...|\n",
      "|Procedure/procedure|{\"resourceType\": ...|\n",
      "|Encounter/encounter|{\"resourceType\": ...|\n",
      "+-------------------+--------------------+\n",
      "\n"
     ]
    },
    {
     "data": {
      "text/plain": [
       "pyspark.sql.dataframe.DataFrame"
      ]
     },
     "execution_count": 9,
     "metadata": {},
     "output_type": "execute_result"
    }
   ],
   "source": [
    "kafka_data = spark.sql(\"select * from gettable\")\n",
    "kafka_data.show()\n",
    "type(kafka_data)"
   ]
  },
  {
   "cell_type": "code",
   "execution_count": 10,
   "metadata": {},
   "outputs": [
    {
     "data": {
      "text/html": [
       "<div>\n",
       "<style scoped>\n",
       "    .dataframe tbody tr th:only-of-type {\n",
       "        vertical-align: middle;\n",
       "    }\n",
       "\n",
       "    .dataframe tbody tr th {\n",
       "        vertical-align: top;\n",
       "    }\n",
       "\n",
       "    .dataframe thead th {\n",
       "        text-align: right;\n",
       "    }\n",
       "</style>\n",
       "<table border=\"1\" class=\"dataframe\">\n",
       "  <thead>\n",
       "    <tr style=\"text-align: right;\">\n",
       "      <th></th>\n",
       "      <th>key</th>\n",
       "      <th>value</th>\n",
       "    </tr>\n",
       "  </thead>\n",
       "  <tbody>\n",
       "    <tr>\n",
       "      <th>0</th>\n",
       "      <td>Patient/patient</td>\n",
       "      <td>{\"resourceType\": \"Bundle\", \"meta\": {\"security\"...</td>\n",
       "    </tr>\n",
       "    <tr>\n",
       "      <th>1</th>\n",
       "      <td>Condition/condition</td>\n",
       "      <td>{\"resourceType\": \"Bundle\", \"meta\": {\"security\"...</td>\n",
       "    </tr>\n",
       "    <tr>\n",
       "      <th>2</th>\n",
       "      <td>Condition/condition</td>\n",
       "      <td>{\"resourceType\": \"Bundle\", \"meta\": {\"security\"...</td>\n",
       "    </tr>\n",
       "    <tr>\n",
       "      <th>3</th>\n",
       "      <td>Procedure/procedure</td>\n",
       "      <td>{\"resourceType\": \"Bundle\",\"meta\": {\"security\":...</td>\n",
       "    </tr>\n",
       "    <tr>\n",
       "      <th>4</th>\n",
       "      <td>Encounter/encounter</td>\n",
       "      <td>{\"resourceType\": \"Bundle\", \"meta\": {\"security\"...</td>\n",
       "    </tr>\n",
       "  </tbody>\n",
       "</table>\n",
       "</div>"
      ],
      "text/plain": [
       "                   key                                              value\n",
       "0      Patient/patient  {\"resourceType\": \"Bundle\", \"meta\": {\"security\"...\n",
       "1  Condition/condition  {\"resourceType\": \"Bundle\", \"meta\": {\"security\"...\n",
       "2  Condition/condition  {\"resourceType\": \"Bundle\", \"meta\": {\"security\"...\n",
       "3  Procedure/procedure  {\"resourceType\": \"Bundle\",\"meta\": {\"security\":...\n",
       "4  Encounter/encounter  {\"resourceType\": \"Bundle\", \"meta\": {\"security\"..."
      ]
     },
     "execution_count": 10,
     "metadata": {},
     "output_type": "execute_result"
    }
   ],
   "source": [
    "pd_df = kafka_data.toPandas()\n",
    "pd_df"
   ]
  },
  {
   "cell_type": "markdown",
   "metadata": {},
   "source": [
    "# Bring Pathling into the game"
   ]
  },
  {
   "cell_type": "code",
   "execution_count": 12,
   "metadata": {},
   "outputs": [
    {
     "ename": "TypeError",
     "evalue": "'JavaPackage' object is not callable",
     "output_type": "error",
     "traceback": [
      "\u001b[0;31m---------------------------------------------------------------------------\u001b[0m",
      "\u001b[0;31mTypeError\u001b[0m                                 Traceback (most recent call last)",
      "Input \u001b[0;32mIn [12]\u001b[0m, in \u001b[0;36m<cell line: 3>\u001b[0;34m()\u001b[0m\n\u001b[1;32m      1\u001b[0m \u001b[38;5;28;01mfrom\u001b[39;00m \u001b[38;5;21;01mpathling\u001b[39;00m\u001b[38;5;21;01m.\u001b[39;00m\u001b[38;5;21;01mr4\u001b[39;00m \u001b[38;5;28;01mimport\u001b[39;00m bundles\n\u001b[0;32m----> 3\u001b[0m resources \u001b[38;5;241m=\u001b[39m \u001b[43mbundles\u001b[49m\u001b[38;5;241;43m.\u001b[39;49m\u001b[43mfrom_resource_json\u001b[49m\u001b[43m(\u001b[49m\u001b[43mkafka_data\u001b[49m\u001b[43m,\u001b[49m\u001b[43m \u001b[49m\u001b[38;5;124;43m'\u001b[39;49m\u001b[38;5;124;43mvalue\u001b[39;49m\u001b[38;5;124;43m'\u001b[39;49m\u001b[43m)\u001b[49m\n",
      "File \u001b[0;32m/opt/conda/lib/python3.10/site-packages/pathling/r4/bundles.py:60\u001b[0m, in \u001b[0;36mfrom_resource_json\u001b[0;34m(df, column)\u001b[0m\n\u001b[1;32m     48\u001b[0m \u001b[38;5;28;01mdef\u001b[39;00m \u001b[38;5;21mfrom_resource_json\u001b[39m(df, column):\n\u001b[1;32m     49\u001b[0m     \u001b[38;5;124;03m\"\"\"\u001b[39;00m\n\u001b[1;32m     50\u001b[0m \u001b[38;5;124;03m    Takes a dataframe with JSON-encoded resources in the given column and returns\u001b[39;00m\n\u001b[1;32m     51\u001b[0m \u001b[38;5;124;03m    a Java RDD of Bundle records where every resource is wrapped in a separate bundle.\u001b[39;00m\n\u001b[0;32m   (...)\u001b[0m\n\u001b[1;32m     58\u001b[0m \u001b[38;5;124;03m    :return: a Java RDD of bundles for use with :func:`extract_entry`\u001b[39;00m\n\u001b[1;32m     59\u001b[0m \u001b[38;5;124;03m    \"\"\"\u001b[39;00m\n\u001b[0;32m---> 60\u001b[0m     bundles \u001b[38;5;241m=\u001b[39m \u001b[43m_bundles\u001b[49m\u001b[43m(\u001b[49m\u001b[43mdf\u001b[49m\u001b[38;5;241;43m.\u001b[39;49m\u001b[43m_sc\u001b[49m\u001b[38;5;241;43m.\u001b[39;49m\u001b[43m_jvm\u001b[49m\u001b[43m)\u001b[49m\n\u001b[1;32m     61\u001b[0m     \u001b[38;5;28;01mreturn\u001b[39;00m bundles\u001b[38;5;241m.\u001b[39mfromResourceJson(df\u001b[38;5;241m.\u001b[39m_jdf, column)\n",
      "File \u001b[0;32m/opt/conda/lib/python3.10/site-packages/pathling/r4/bundles.py:13\u001b[0m, in \u001b[0;36m_bundles\u001b[0;34m(jvm)\u001b[0m\n\u001b[1;32m     12\u001b[0m \u001b[38;5;28;01mdef\u001b[39;00m \u001b[38;5;21m_bundles\u001b[39m(jvm):\n\u001b[0;32m---> 13\u001b[0m     \u001b[38;5;28;01mreturn\u001b[39;00m \u001b[43mjvm\u001b[49m\u001b[38;5;241;43m.\u001b[39;49m\u001b[43mau\u001b[49m\u001b[38;5;241;43m.\u001b[39;49m\u001b[43mcsiro\u001b[49m\u001b[38;5;241;43m.\u001b[39;49m\u001b[43mpathling\u001b[49m\u001b[38;5;241;43m.\u001b[39;49m\u001b[43mapi\u001b[49m\u001b[38;5;241;43m.\u001b[39;49m\u001b[43mBundles\u001b[49m\u001b[38;5;241;43m.\u001b[39;49m\u001b[43mforR4\u001b[49m\u001b[43m(\u001b[49m\u001b[43m)\u001b[49m\n",
      "\u001b[0;31mTypeError\u001b[0m: 'JavaPackage' object is not callable"
     ]
    }
   ],
   "source": [
    "from pathling.r4 import bundles\n",
    "\n",
    "resources = bundles.from_json(kafka_data, 'value')"
   ]
  },
  {
   "cell_type": "code",
   "execution_count": null,
   "metadata": {},
   "outputs": [],
   "source": [
    "patients = bundles.extract_entry(spark, resources, 'Patient')\n",
    "encounter = bundles.extract_entry(spark, resources, 'Encounter')\n",
    "condition = bundles.extract_entry(spark, resources, 'Condition')"
   ]
  },
  {
   "cell_type": "code",
   "execution_count": null,
   "metadata": {},
   "outputs": [],
   "source": [
    "patients.printSchema()"
   ]
  },
  {
   "cell_type": "code",
   "execution_count": null,
   "metadata": {},
   "outputs": [],
   "source": [
    "patients.select(\"id\", \"birthDate\", \"gender\", \"address.postalCode\").toPandas()"
   ]
  },
  {
   "cell_type": "code",
   "execution_count": null,
   "metadata": {},
   "outputs": [],
   "source": [
    "encounter.printSchema()"
   ]
  },
  {
   "cell_type": "code",
   "execution_count": null,
   "metadata": {},
   "outputs": [],
   "source": [
    "encounter.select(\"id\", \"subject.reference\", \"serviceType.coding.code\", \"period.start\", \"period.end\").toPandas()"
   ]
  },
  {
   "cell_type": "code",
   "execution_count": null,
   "metadata": {},
   "outputs": [],
   "source": [
    "condition.printSchema()"
   ]
  },
  {
   "cell_type": "code",
   "execution_count": null,
   "metadata": {},
   "outputs": [],
   "source": [
    "condition.select(\"id\", \"encounter.reference\", \"code.coding.code\").toPandas()"
   ]
  }
 ],
 "metadata": {
  "anaconda-cloud": {},
  "kernelspec": {
   "display_name": "Python 3 (ipykernel)",
   "language": "python",
   "name": "python3"
  },
  "language_info": {
   "codemirror_mode": {
    "name": "ipython",
    "version": 3
   },
   "file_extension": ".py",
   "mimetype": "text/x-python",
   "name": "python",
   "nbconvert_exporter": "python",
   "pygments_lexer": "ipython3",
   "version": "3.10.4"
  }
 },
 "nbformat": 4,
 "nbformat_minor": 4
}
