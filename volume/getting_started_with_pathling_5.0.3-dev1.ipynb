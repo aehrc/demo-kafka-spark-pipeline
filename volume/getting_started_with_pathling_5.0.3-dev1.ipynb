{
 "cells": [
  {
   "cell_type": "markdown",
   "metadata": {},
   "source": [
    "AkHQ: http://localhost:8082  \n",
    "Spark-Master http://localhost:8083  \n",
    "Spark-Worker-1 http://localhost:8084\n",
    "\n",
    "https://github.com/aehrc/pathling/tree/issue/452/lib/python#python-api-for-pathling"
   ]
  },
  {
   "cell_type": "markdown",
   "metadata": {},
   "source": [
    "# Try Connect To Test FHIR Kafka"
   ]
  },
  {
   "cell_type": "code",
   "execution_count": null,
   "metadata": {},
   "outputs": [],
   "source": [
    "!python --version\n",
    "!yes | pip uninstall pathling\n",
    "!yes | pip install pathling==5.0.3.dev1"
   ]
  },
  {
   "cell_type": "code",
   "execution_count": null,
   "metadata": {},
   "outputs": [],
   "source": [
    "import os\n",
    "os.environ"
   ]
  },
  {
   "cell_type": "code",
   "execution_count": null,
   "metadata": {},
   "outputs": [],
   "source": [
    "# for debugging\n",
    "#os.environ[\"PYSPARK_SUBMIT_ARGS\"] = \"--packages org.apache.spark:spark-sql-kafka-0-10_2.12:3.2.1 pyspark-shell\""
   ]
  },
  {
   "cell_type": "code",
   "execution_count": null,
   "metadata": {},
   "outputs": [],
   "source": [
    "appName = \"Kafka, Spark and FHIR Data\"\n",
    "master = \"spark://spark-master:7077\"\n",
    "#master = \"local[*]\"\n",
    "kafka_topic = \"fhir.post-gateway-kdb\""
   ]
  },
  {
   "cell_type": "code",
   "execution_count": null,
   "metadata": {},
   "outputs": [],
   "source": [
    "from pyspark.sql import SparkSession\n",
    "    \n",
    "spark = SparkSession.builder \\\n",
    "        .appName(appName) \\\n",
    "        .master(master) \\\n",
    "        .config('spark.ui.port','0') \\\n",
    "        .getOrCreate()"
   ]
  },
  {
   "cell_type": "code",
   "execution_count": null,
   "metadata": {},
   "outputs": [],
   "source": [
    "# https://spark.apache.org/docs/latest/structured-streaming-kafka-integration.html\n",
    "# default for startingOffsets is \"latest\", but \"earliest\" allows rewind for missed alerts    \n",
    "df = spark \\\n",
    "  .readStream  \\\n",
    "  .format(\"kafka\") \\\n",
    "  .option(\"kafka.bootstrap.servers\", \"kafka1:19092\") \\\n",
    "  .option(\"subscribe\", kafka_topic) \\\n",
    "  .option(\"startingOffsets\", \"earliest\") \\\n",
    "  .load()"
   ]
  },
  {
   "cell_type": "code",
   "execution_count": null,
   "metadata": {},
   "outputs": [],
   "source": [
    "df.printSchema()"
   ]
  },
  {
   "cell_type": "code",
   "execution_count": null,
   "metadata": {},
   "outputs": [],
   "source": [
    "query = df.selectExpr(\"CAST(key AS STRING)\", \"CAST(value AS STRING)\") \\\n",
    "          .writeStream \\\n",
    "          .queryName(\"gettable\") \\\n",
    "          .format(\"memory\") \\\n",
    "          .start()\n",
    "\n",
    "# close connection after 30 seconds\n",
    "query.awaitTermination(30)"
   ]
  },
  {
   "cell_type": "code",
   "execution_count": null,
   "metadata": {},
   "outputs": [],
   "source": [
    "kafka_data = spark.sql(\"select * from gettable\")\n",
    "kafka_data.show()\n",
    "type(kafka_data)"
   ]
  },
  {
   "cell_type": "code",
   "execution_count": null,
   "metadata": {},
   "outputs": [],
   "source": [
    "pd_df = kafka_data.toPandas()\n",
    "pd_df"
   ]
  },
  {
   "cell_type": "markdown",
   "metadata": {},
   "source": [
    "# Bring Pathling into the game"
   ]
  },
  {
   "cell_type": "code",
   "execution_count": null,
   "metadata": {},
   "outputs": [],
   "source": [
    "from pathling import PathlingContext\n",
    "\n",
    "ptl = PathlingContext.create(spark)"
   ]
  },
  {
   "cell_type": "code",
   "execution_count": null,
   "metadata": {},
   "outputs": [],
   "source": [
    "# readme-example\n",
    "#n_bundles = spark.read.text('/home/jovyan/pathling/lib/python/examples/data/bundles/', wholetext=True)\n",
    "#n_bundles\n",
    "#type(n_bundles)"
   ]
  },
  {
   "cell_type": "code",
   "execution_count": null,
   "metadata": {},
   "outputs": [],
   "source": [
    "kafka_data.select(\"value\")"
   ]
  },
  {
   "cell_type": "code",
   "execution_count": null,
   "metadata": {},
   "outputs": [],
   "source": [
    "patients = ptl.encodeBundle(kafka_data.select(\"value\"), 'Patient')\n",
    "encounter = ptl.encodeBundle(kafka_data.select(\"value\"), 'Encounter')\n",
    "condition = ptl.encodeBundle(kafka_data.select(\"value\"), 'Condition')"
   ]
  },
  {
   "cell_type": "code",
   "execution_count": null,
   "metadata": {},
   "outputs": [],
   "source": [
    "patients.printSchema()"
   ]
  },
  {
   "cell_type": "code",
   "execution_count": null,
   "metadata": {},
   "outputs": [],
   "source": [
    "patients.select(\"id\", \"birthDate\", \"gender\", \"address.postalCode\").toPandas()"
   ]
  },
  {
   "cell_type": "code",
   "execution_count": null,
   "metadata": {},
   "outputs": [],
   "source": [
    "encounter.printSchema()"
   ]
  },
  {
   "cell_type": "code",
   "execution_count": null,
   "metadata": {},
   "outputs": [],
   "source": [
    "encounter.select(\"id\", \"subject.reference\", \"serviceType.coding.code\", \"period.start\", \"period.end\").toPandas()"
   ]
  },
  {
   "cell_type": "code",
   "execution_count": null,
   "metadata": {},
   "outputs": [],
   "source": [
    "condition.printSchema()"
   ]
  },
  {
   "cell_type": "code",
   "execution_count": null,
   "metadata": {},
   "outputs": [],
   "source": [
    "condition.select(\"id\", \"encounter.reference\", \"code.coding.code\").toPandas()"
   ]
  },
  {
   "cell_type": "code",
   "execution_count": null,
   "metadata": {},
   "outputs": [],
   "source": [
    "from pyspark.sql.functions import regexp_replace, col\n",
    "\n",
    "pt1 = patients.select(\"id\", \"birthDate\", \"gender\", \"address.postalCode\")\n",
    "\n",
    "enc1 = encounter \\\n",
    "    .select( \\\n",
    "        col(\"id\").alias(\"encounter_id\"), \\\n",
    "        \"subject.reference\", \\\n",
    "        col(\"serviceType.coding.code\").alias(\"servicetype_code\"), \\\n",
    "        col(\"period.start\").alias(\"period_start\"), \\\n",
    "        col(\"period.end\").alias(\"period_end\") \\\n",
    "       ) \\\n",
    "    .withColumn(\"patient_id\", regexp_replace(\"reference\", \"Patient/\", \"\"))\n",
    "\n",
    "cd1 = condition \\\n",
    "    .select( \\\n",
    "        \"id\", \\\n",
    "        \"encounter.reference\", \\\n",
    "        col(\"code.coding.code\").alias(\"condition_code\") \\\n",
    "       ) \\\n",
    "    .withColumn(\"cond_encounter_id\", regexp_replace(\"reference\", \"Encounter/\", \"\"))"
   ]
  },
  {
   "cell_type": "code",
   "execution_count": null,
   "metadata": {},
   "outputs": [],
   "source": [
    "join1 = enc1 \\\n",
    "    .join(pt1, enc1.patient_id == pt1.id)\n",
    "join2 = join1 \\\n",
    "    .select(\"encounter_id\", \"servicetype_code\", \"period_start\", \"period_end\", \"patient_id\", \"birthDate\", \"gender\", \"postalCode\") \\\n",
    "    .join(cd1, join1.encounter_id == cd1.cond_encounter_id) \\\n",
    "    .select(\"encounter_id\", \"servicetype_code\", \"period_start\", \"period_end\", \"patient_id\", \"birthDate\", \"gender\", \"postalCode\", \"condition_code\")"
   ]
  },
  {
   "cell_type": "code",
   "execution_count": null,
   "metadata": {},
   "outputs": [],
   "source": [
    "join2.toPandas()"
   ]
  }
 ],
 "metadata": {
  "anaconda-cloud": {},
  "kernelspec": {
   "display_name": "Python 3 (ipykernel)",
   "language": "python",
   "name": "python3"
  },
  "language_info": {
   "codemirror_mode": {
    "name": "ipython",
    "version": 3
   },
   "file_extension": ".py",
   "mimetype": "text/x-python",
   "name": "python",
   "nbconvert_exporter": "python",
   "pygments_lexer": "ipython3",
   "version": "3.10.4"
  }
 },
 "nbformat": 4,
 "nbformat_minor": 4
}
