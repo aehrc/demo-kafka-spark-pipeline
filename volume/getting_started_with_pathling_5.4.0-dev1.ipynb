{
 "cells": [
  {
   "cell_type": "markdown",
   "metadata": {},
   "source": [
    "AkHQ: http://localhost:8082  \n",
    "Spark-Master http://localhost:8083  \n",
    "Spark-Worker-1 http://localhost:8084\n",
    "\n",
    "https://github.com/aehrc/pathling/tree/issue/452/lib/python#python-api-for-pathling"
   ]
  },
  {
   "cell_type": "markdown",
   "metadata": {},
   "source": [
    "# Try Connect To Test FHIR Kafka"
   ]
  },
  {
   "cell_type": "code",
   "execution_count": 1,
   "metadata": {},
   "outputs": [
    {
     "name": "stdout",
     "output_type": "stream",
     "text": [
      "Python 3.10.5\n"
     ]
    }
   ],
   "source": [
    "!python --version"
   ]
  },
  {
   "cell_type": "code",
   "execution_count": 2,
   "metadata": {},
   "outputs": [
    {
     "data": {
      "text/plain": [
       "environ{'SHELL': '/bin/bash',\n",
       "        'HOSTNAME': 'fa879c1f580b',\n",
       "        'LANGUAGE': 'en_US.UTF-8',\n",
       "        'SPARK_OPTS': '--driver-java-options=-Xms1024M --driver-java-options=-Xmx4096M --driver-java-options=-Dlog4j.logLevel=info',\n",
       "        'NB_UID': '1000',\n",
       "        'PWD': '/home/jovyan',\n",
       "        'PYSPARK_VERSION': '3.2.1',\n",
       "        'PYSPARK_SUBMIT_ARGS': '     --packages org.apache.spark:spark-sql-kafka-0-10_2.12:3.2.1,au.csiro.pathling:encoders:5.4.0     --repositories https://oss.sonatype.org/content/repositories/snapshots     pyspark-shell',\n",
       "        'HOME': '/home/jovyan',\n",
       "        'LANG': 'en_US.UTF-8',\n",
       "        'NB_GID': '100',\n",
       "        'XDG_CACHE_HOME': '/home/jovyan/.cache/',\n",
       "        'APACHE_SPARK_VERSION': '3.2.1',\n",
       "        'PYTHONPATH': '/usr/local/spark/python/lib/py4j-0.10.9.3-src.zip:/usr/local/spark/python:',\n",
       "        'HADOOP_VERSION': '3.2',\n",
       "        'SHLVL': '0',\n",
       "        'CONDA_DIR': '/opt/conda',\n",
       "        'SPARK_HOME': '/usr/local/spark',\n",
       "        'PATHLING_VERSION': '5.4.0',\n",
       "        'SPARK_CONF_DIR': '/usr/local/spark/conf',\n",
       "        'NB_USER': 'jovyan',\n",
       "        'LC_ALL': 'en_US.UTF-8',\n",
       "        'PATH': '/opt/conda/bin:/usr/local/sbin:/usr/local/bin:/usr/sbin:/usr/bin:/sbin:/bin:/usr/local/spark/bin',\n",
       "        'PYSPARK_PYTHONPATH_SET': '1',\n",
       "        'DEBIAN_FRONTEND': 'noninteractive',\n",
       "        'PYDEVD_USE_FRAME_EVAL': 'NO',\n",
       "        'JPY_PARENT_PID': '7',\n",
       "        'TERM': 'xterm-color',\n",
       "        'CLICOLOR': '1',\n",
       "        'PAGER': 'cat',\n",
       "        'GIT_PAGER': 'cat',\n",
       "        'MPLBACKEND': 'module://matplotlib_inline.backend_inline'}"
      ]
     },
     "execution_count": 2,
     "metadata": {},
     "output_type": "execute_result"
    }
   ],
   "source": [
    "import os\n",
    "os.environ"
   ]
  },
  {
   "cell_type": "code",
   "execution_count": 3,
   "metadata": {},
   "outputs": [],
   "source": [
    "# for debugging\n",
    "#os.environ[\"PYSPARK_SUBMIT_ARGS\"] = \"--packages org.apache.spark:spark-sql-kafka-0-10_2.12:3.2.1 pyspark-shell\""
   ]
  },
  {
   "cell_type": "code",
   "execution_count": 4,
   "metadata": {},
   "outputs": [],
   "source": [
    "appName = \"Kafka, Spark and FHIR Data\"\n",
    "master = \"spark://spark-master:7077\"\n",
    "#master = \"local[*]\"\n",
    "kafka_topic = \"fhir.post-gateway-kdb\""
   ]
  },
  {
   "cell_type": "code",
   "execution_count": 5,
   "metadata": {},
   "outputs": [],
   "source": [
    "from pyspark.sql import SparkSession\n",
    "from pyspark.conf import SparkConf\n",
    "from pathling.etc import find_jar\n",
    "\n",
    "#conf = SparkConf()\n",
    "#conf.setMaster(master) \\\n",
    "#    .setAppName(appName) \\\n",
    "#    .set(\"spark.ui.port\",\"0\")\n",
    "\n",
    "# get current jars\n",
    "#spark_jars = conf.get(\"spark.jars\")\n",
    "# append pathling jar\n",
    "#updated_spark_jars = spark_jars + \",file://\" + find_jar()\n",
    "\n",
    "#updated_spark_jars = [\"/test/1.jar\", \"/test2.jar\"]\n",
    "\n",
    "spark = SparkSession.builder \\\n",
    "    .appName(appName) \\\n",
    "    .master(master) \\\n",
    "    .config(\"spark.ui.port\",\"0\") \\\n",
    "    .getOrCreate()\n",
    "\n",
    "spark.sparkContext.addFile(find_jar())"
   ]
  },
  {
   "cell_type": "code",
   "execution_count": 6,
   "metadata": {},
   "outputs": [],
   "source": [
    "#spark.sparkContext.getConf().get(\"spark.jars\")\n",
    "#updated_spark_jars"
   ]
  },
  {
   "cell_type": "code",
   "execution_count": 7,
   "metadata": {},
   "outputs": [],
   "source": [
    "# https://spark.apache.org/docs/latest/structured-streaming-kafka-integration.html\n",
    "# default for startingOffsets is \"latest\", but \"earliest\" allows rewind for missed alerts    \n",
    "df = spark \\\n",
    "  .readStream  \\\n",
    "  .format(\"kafka\") \\\n",
    "  .option(\"kafka.bootstrap.servers\", \"kafka1:19092\") \\\n",
    "  .option(\"subscribe\", kafka_topic) \\\n",
    "  .option(\"startingOffsets\", \"earliest\") \\\n",
    "  .load()"
   ]
  },
  {
   "cell_type": "code",
   "execution_count": 8,
   "metadata": {},
   "outputs": [
    {
     "name": "stdout",
     "output_type": "stream",
     "text": [
      "root\n",
      " |-- key: binary (nullable = true)\n",
      " |-- value: binary (nullable = true)\n",
      " |-- topic: string (nullable = true)\n",
      " |-- partition: integer (nullable = true)\n",
      " |-- offset: long (nullable = true)\n",
      " |-- timestamp: timestamp (nullable = true)\n",
      " |-- timestampType: integer (nullable = true)\n",
      "\n"
     ]
    }
   ],
   "source": [
    "df.printSchema()"
   ]
  },
  {
   "cell_type": "code",
   "execution_count": 9,
   "metadata": {},
   "outputs": [
    {
     "data": {
      "text/plain": [
       "False"
      ]
     },
     "execution_count": 9,
     "metadata": {},
     "output_type": "execute_result"
    }
   ],
   "source": [
    "query = df.selectExpr(\"CAST(key AS STRING)\", \"CAST(value AS STRING)\") \\\n",
    "          .writeStream \\\n",
    "          .queryName(\"gettable\") \\\n",
    "          .format(\"memory\") \\\n",
    "          .start()\n",
    "\n",
    "# close connection after 30 seconds\n",
    "query.awaitTermination(30)"
   ]
  },
  {
   "cell_type": "code",
   "execution_count": 10,
   "metadata": {},
   "outputs": [
    {
     "name": "stdout",
     "output_type": "stream",
     "text": [
      "+-------------------+--------------------+\n",
      "|                key|               value|\n",
      "+-------------------+--------------------+\n",
      "|    Patient/patient|{\"resourceType\": ...|\n",
      "|Condition/condition|{\"resourceType\": ...|\n",
      "|Condition/condition|{\"resourceType\": ...|\n",
      "|Procedure/procedure|{\"resourceType\": ...|\n",
      "|Encounter/encounter|{\"resourceType\": ...|\n",
      "|    Patient/patient|{\"resourceType\": ...|\n",
      "|Condition/condition|{\"resourceType\": ...|\n",
      "|Condition/condition|{\"resourceType\": ...|\n",
      "|Procedure/procedure|{\"resourceType\": ...|\n",
      "|Encounter/encounter|{\"resourceType\": ...|\n",
      "+-------------------+--------------------+\n",
      "\n"
     ]
    },
    {
     "data": {
      "text/plain": [
       "pyspark.sql.dataframe.DataFrame"
      ]
     },
     "execution_count": 10,
     "metadata": {},
     "output_type": "execute_result"
    }
   ],
   "source": [
    "kafka_data = spark.sql(\"select * from gettable\")\n",
    "kafka_data.show()\n",
    "type(kafka_data)"
   ]
  },
  {
   "cell_type": "code",
   "execution_count": 11,
   "metadata": {},
   "outputs": [
    {
     "data": {
      "text/html": [
       "<div>\n",
       "<style scoped>\n",
       "    .dataframe tbody tr th:only-of-type {\n",
       "        vertical-align: middle;\n",
       "    }\n",
       "\n",
       "    .dataframe tbody tr th {\n",
       "        vertical-align: top;\n",
       "    }\n",
       "\n",
       "    .dataframe thead th {\n",
       "        text-align: right;\n",
       "    }\n",
       "</style>\n",
       "<table border=\"1\" class=\"dataframe\">\n",
       "  <thead>\n",
       "    <tr style=\"text-align: right;\">\n",
       "      <th></th>\n",
       "      <th>key</th>\n",
       "      <th>value</th>\n",
       "    </tr>\n",
       "  </thead>\n",
       "  <tbody>\n",
       "    <tr>\n",
       "      <th>0</th>\n",
       "      <td>Patient/patient</td>\n",
       "      <td>{\"resourceType\": \"Bundle\", \"meta\": {\"security\"...</td>\n",
       "    </tr>\n",
       "    <tr>\n",
       "      <th>1</th>\n",
       "      <td>Condition/condition</td>\n",
       "      <td>{\"resourceType\": \"Bundle\", \"meta\": {\"security\"...</td>\n",
       "    </tr>\n",
       "    <tr>\n",
       "      <th>2</th>\n",
       "      <td>Condition/condition</td>\n",
       "      <td>{\"resourceType\": \"Bundle\", \"meta\": {\"security\"...</td>\n",
       "    </tr>\n",
       "    <tr>\n",
       "      <th>3</th>\n",
       "      <td>Procedure/procedure</td>\n",
       "      <td>{\"resourceType\": \"Bundle\",\"meta\": {\"security\":...</td>\n",
       "    </tr>\n",
       "    <tr>\n",
       "      <th>4</th>\n",
       "      <td>Encounter/encounter</td>\n",
       "      <td>{\"resourceType\": \"Bundle\", \"meta\": {\"security\"...</td>\n",
       "    </tr>\n",
       "    <tr>\n",
       "      <th>5</th>\n",
       "      <td>Patient/patient</td>\n",
       "      <td>{\"resourceType\": \"Bundle\", \"meta\": {\"security\"...</td>\n",
       "    </tr>\n",
       "    <tr>\n",
       "      <th>6</th>\n",
       "      <td>Condition/condition</td>\n",
       "      <td>{\"resourceType\": \"Bundle\", \"meta\": {\"security\"...</td>\n",
       "    </tr>\n",
       "    <tr>\n",
       "      <th>7</th>\n",
       "      <td>Condition/condition</td>\n",
       "      <td>{\"resourceType\": \"Bundle\", \"meta\": {\"security\"...</td>\n",
       "    </tr>\n",
       "    <tr>\n",
       "      <th>8</th>\n",
       "      <td>Procedure/procedure</td>\n",
       "      <td>{\"resourceType\": \"Bundle\",\"meta\": {\"security\":...</td>\n",
       "    </tr>\n",
       "    <tr>\n",
       "      <th>9</th>\n",
       "      <td>Encounter/encounter</td>\n",
       "      <td>{\"resourceType\": \"Bundle\", \"meta\": {\"security\"...</td>\n",
       "    </tr>\n",
       "  </tbody>\n",
       "</table>\n",
       "</div>"
      ],
      "text/plain": [
       "                   key                                              value\n",
       "0      Patient/patient  {\"resourceType\": \"Bundle\", \"meta\": {\"security\"...\n",
       "1  Condition/condition  {\"resourceType\": \"Bundle\", \"meta\": {\"security\"...\n",
       "2  Condition/condition  {\"resourceType\": \"Bundle\", \"meta\": {\"security\"...\n",
       "3  Procedure/procedure  {\"resourceType\": \"Bundle\",\"meta\": {\"security\":...\n",
       "4  Encounter/encounter  {\"resourceType\": \"Bundle\", \"meta\": {\"security\"...\n",
       "5      Patient/patient  {\"resourceType\": \"Bundle\", \"meta\": {\"security\"...\n",
       "6  Condition/condition  {\"resourceType\": \"Bundle\", \"meta\": {\"security\"...\n",
       "7  Condition/condition  {\"resourceType\": \"Bundle\", \"meta\": {\"security\"...\n",
       "8  Procedure/procedure  {\"resourceType\": \"Bundle\",\"meta\": {\"security\":...\n",
       "9  Encounter/encounter  {\"resourceType\": \"Bundle\", \"meta\": {\"security\"..."
      ]
     },
     "execution_count": 11,
     "metadata": {},
     "output_type": "execute_result"
    }
   ],
   "source": [
    "pd_df = kafka_data.toPandas()\n",
    "pd_df"
   ]
  },
  {
   "cell_type": "markdown",
   "metadata": {},
   "source": [
    "# Bring Pathling into the game"
   ]
  },
  {
   "cell_type": "code",
   "execution_count": 12,
   "metadata": {},
   "outputs": [
    {
     "ename": "TypeError",
     "evalue": "'JavaPackage' object is not callable",
     "output_type": "error",
     "traceback": [
      "\u001b[0;31m---------------------------------------------------------------------------\u001b[0m",
      "\u001b[0;31mTypeError\u001b[0m                                 Traceback (most recent call last)",
      "Input \u001b[0;32mIn [12]\u001b[0m, in \u001b[0;36m<cell line: 4>\u001b[0;34m()\u001b[0m\n\u001b[1;32m      1\u001b[0m \u001b[38;5;28;01mimport\u001b[39;00m \u001b[38;5;21;01mpathling\u001b[39;00m\n\u001b[1;32m      2\u001b[0m \u001b[38;5;28;01mfrom\u001b[39;00m \u001b[38;5;21;01mpathling\u001b[39;00m \u001b[38;5;28;01mimport\u001b[39;00m PathlingContext\n\u001b[0;32m----> 4\u001b[0m ptl \u001b[38;5;241m=\u001b[39m \u001b[43mPathlingContext\u001b[49m\u001b[38;5;241;43m.\u001b[39;49m\u001b[43mcreate\u001b[49m\u001b[43m(\u001b[49m\u001b[43mspark\u001b[49m\u001b[43m \u001b[49m\u001b[38;5;241;43m=\u001b[39;49m\u001b[43m \u001b[49m\u001b[43mspark\u001b[49m\u001b[43m)\u001b[49m\n",
      "File \u001b[0;32m/opt/conda/lib/python3.10/site-packages/pathling/context.py:87\u001b[0m, in \u001b[0;36mPathlingContext.create\u001b[0;34m(cls, spark, fhir_version, max_nesting_level, enable_extensions, enabled_open_types, terminology_server_url, token_endpoint, client_id, client_secret, scope, token_expiry_tolerance)\u001b[0m\n\u001b[1;32m     81\u001b[0m spark \u001b[38;5;241m=\u001b[39m (spark \u001b[38;5;129;01mor\u001b[39;00m\n\u001b[1;32m     82\u001b[0m          SparkSession\u001b[38;5;241m.\u001b[39mgetActiveSession() \u001b[38;5;129;01mor\u001b[39;00m\n\u001b[1;32m     83\u001b[0m          SparkSession\u001b[38;5;241m.\u001b[39mbuilder\n\u001b[1;32m     84\u001b[0m          \u001b[38;5;241m.\u001b[39mconfig(\u001b[38;5;124m'\u001b[39m\u001b[38;5;124mspark.jars\u001b[39m\u001b[38;5;124m'\u001b[39m, find_jar())\n\u001b[1;32m     85\u001b[0m          \u001b[38;5;241m.\u001b[39mgetOrCreate())\n\u001b[1;32m     86\u001b[0m jvm: JavaObject \u001b[38;5;241m=\u001b[39m spark\u001b[38;5;241m.\u001b[39m_jvm\n\u001b[0;32m---> 87\u001b[0m jpc: JavaObject \u001b[38;5;241m=\u001b[39m \u001b[43mjvm\u001b[49m\u001b[38;5;241;43m.\u001b[39;49m\u001b[43mau\u001b[49m\u001b[38;5;241;43m.\u001b[39;49m\u001b[43mcsiro\u001b[49m\u001b[38;5;241;43m.\u001b[39;49m\u001b[43mpathling\u001b[49m\u001b[38;5;241;43m.\u001b[39;49m\u001b[43mlibrary\u001b[49m\u001b[38;5;241;43m.\u001b[39;49m\u001b[43mPathlingContext\u001b[49m\u001b[38;5;241;43m.\u001b[39;49m\u001b[43mcreate\u001b[49m\u001b[43m(\u001b[49m\n\u001b[1;32m     88\u001b[0m \u001b[43m        \u001b[49m\u001b[43mspark\u001b[49m\u001b[38;5;241;43m.\u001b[39;49m\u001b[43m_jsparkSession\u001b[49m\u001b[43m,\u001b[49m\u001b[43m \u001b[49m\u001b[43mfhir_version\u001b[49m\u001b[43m,\u001b[49m\u001b[43m \u001b[49m\u001b[43mmax_nesting_level\u001b[49m\u001b[43m,\u001b[49m\u001b[43m \u001b[49m\u001b[43menable_extensions\u001b[49m\u001b[43m,\u001b[49m\n\u001b[1;32m     89\u001b[0m \u001b[43m        \u001b[49m\u001b[43menabled_open_types\u001b[49m\u001b[43m,\u001b[49m\u001b[43m \u001b[49m\u001b[43mterminology_server_url\u001b[49m\u001b[43m,\u001b[49m\u001b[43m \u001b[49m\u001b[43mtoken_endpoint\u001b[49m\u001b[43m,\u001b[49m\u001b[43m \u001b[49m\u001b[43mclient_id\u001b[49m\u001b[43m,\u001b[49m\n\u001b[1;32m     90\u001b[0m \u001b[43m        \u001b[49m\u001b[43mclient_secret\u001b[49m\u001b[43m,\u001b[49m\u001b[43m \u001b[49m\u001b[43mscope\u001b[49m\u001b[43m,\u001b[49m\u001b[43m \u001b[49m\u001b[43mtoken_expiry_tolerance\u001b[49m\u001b[43m)\u001b[49m\n\u001b[1;32m     91\u001b[0m \u001b[38;5;28;01mreturn\u001b[39;00m PathlingContext(spark, jpc)\n",
      "\u001b[0;31mTypeError\u001b[0m: 'JavaPackage' object is not callable"
     ]
    }
   ],
   "source": [
    "import pathling\n",
    "from pathling import PathlingContext\n",
    "\n",
    "ptl = PathlingContext.create(spark = spark)"
   ]
  },
  {
   "cell_type": "code",
   "execution_count": null,
   "metadata": {},
   "outputs": [],
   "source": [
    "spark._jvm.au.csiro.pathling.library.PathlingContext.create()"
   ]
  },
  {
   "cell_type": "code",
   "execution_count": null,
   "metadata": {},
   "outputs": [],
   "source": [
    "# readme-example\n",
    "#n_bundles = spark.read.text('/home/jovyan/pathling/lib/python/examples/data/bundles/', wholetext=True)\n",
    "#n_bundles\n",
    "#type(n_bundles)"
   ]
  },
  {
   "cell_type": "code",
   "execution_count": null,
   "metadata": {},
   "outputs": [],
   "source": [
    "kafka_data.select(\"value\")"
   ]
  },
  {
   "cell_type": "code",
   "execution_count": null,
   "metadata": {},
   "outputs": [],
   "source": [
    "patients = ptl.encode_bundle(kafka_data.select(\"value\"), 'Patient')\n",
    "encounter = ptl.encode_bundle(kafka_data.select(\"value\"), 'Encounter')\n",
    "condition = ptl.encode_bundle(kafka_data.select(\"value\"), 'Condition')"
   ]
  },
  {
   "cell_type": "code",
   "execution_count": null,
   "metadata": {},
   "outputs": [],
   "source": []
  },
  {
   "cell_type": "code",
   "execution_count": null,
   "metadata": {},
   "outputs": [],
   "source": [
    "patients.printSchema()"
   ]
  },
  {
   "cell_type": "code",
   "execution_count": null,
   "metadata": {},
   "outputs": [],
   "source": [
    "patients.select(\"id\", \"birthDate\", \"gender\", \"address.postalCode\").toPandas()"
   ]
  },
  {
   "cell_type": "code",
   "execution_count": null,
   "metadata": {},
   "outputs": [],
   "source": [
    "encounter.printSchema()"
   ]
  },
  {
   "cell_type": "code",
   "execution_count": null,
   "metadata": {},
   "outputs": [],
   "source": [
    "encounter.select(\"id\", \"subject.reference\", \"serviceType.coding.code\", \"period.start\", \"period.end\").toPandas()"
   ]
  },
  {
   "cell_type": "code",
   "execution_count": null,
   "metadata": {},
   "outputs": [],
   "source": [
    "condition.printSchema()"
   ]
  },
  {
   "cell_type": "code",
   "execution_count": null,
   "metadata": {},
   "outputs": [],
   "source": [
    "condition.select(\"id\", \"encounter.reference\", \"code.coding.code\").toPandas()"
   ]
  },
  {
   "cell_type": "code",
   "execution_count": null,
   "metadata": {},
   "outputs": [],
   "source": [
    "from pyspark.sql.functions import regexp_replace, col\n",
    "\n",
    "pt1 = patients.select(\"id\", \"birthDate\", \"gender\", \"address.postalCode\")\n",
    "\n",
    "enc1 = encounter \\\n",
    "    .select( \\\n",
    "        col(\"id\").alias(\"encounter_id\"), \\\n",
    "        \"subject.reference\", \\\n",
    "        col(\"serviceType.coding.code\").alias(\"servicetype_code\"), \\\n",
    "        col(\"period.start\").alias(\"period_start\"), \\\n",
    "        col(\"period.end\").alias(\"period_end\") \\\n",
    "       ) \\\n",
    "    .withColumn(\"patient_id\", regexp_replace(\"reference\", \"Patient/\", \"\"))\n",
    "\n",
    "cd1 = condition \\\n",
    "    .select( \\\n",
    "        \"id\", \\\n",
    "        \"encounter.reference\", \\\n",
    "        col(\"code.coding.code\").alias(\"condition_code\") \\\n",
    "       ) \\\n",
    "    .withColumn(\"cond_encounter_id\", regexp_replace(\"reference\", \"Encounter/\", \"\"))"
   ]
  },
  {
   "cell_type": "code",
   "execution_count": null,
   "metadata": {},
   "outputs": [],
   "source": [
    "join1 = enc1 \\\n",
    "    .join(pt1, enc1.patient_id == pt1.id)\n",
    "join2 = join1 \\\n",
    "    .select(\"encounter_id\", \"servicetype_code\", \"period_start\", \"period_end\", \"patient_id\", \"birthDate\", \"gender\", \"postalCode\") \\\n",
    "    .join(cd1, join1.encounter_id == cd1.cond_encounter_id) \\\n",
    "    .select(\"encounter_id\", \"servicetype_code\", \"period_start\", \"period_end\", \"patient_id\", \"birthDate\", \"gender\", \"postalCode\", \"condition_code\")"
   ]
  },
  {
   "cell_type": "code",
   "execution_count": null,
   "metadata": {},
   "outputs": [],
   "source": [
    "join2.toPandas()"
   ]
  }
 ],
 "metadata": {
  "anaconda-cloud": {},
  "kernelspec": {
   "display_name": "Python 3 (ipykernel)",
   "language": "python",
   "name": "python3"
  },
  "language_info": {
   "codemirror_mode": {
    "name": "ipython",
    "version": 3
   },
   "file_extension": ".py",
   "mimetype": "text/x-python",
   "name": "python",
   "nbconvert_exporter": "python",
   "pygments_lexer": "ipython3",
   "version": "3.10.5"
  }
 },
 "nbformat": 4,
 "nbformat_minor": 4
}
